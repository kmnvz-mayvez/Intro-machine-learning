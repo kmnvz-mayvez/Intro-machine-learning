{
 "cells": [
  {
   "cell_type": "code",
   "execution_count": 165,
   "metadata": {},
   "outputs": [
    {
     "name": "stdout",
     "output_type": "stream",
     "text": [
      "      Nama  Usia                Alamat Jenis Kelamin  Pendapatan  Pernikahan\n",
      "0     John    28   Jl. Merdeka No. 123     Laki-laki     55000.0        True\n",
      "1    Sarah    24  Jl. Raya Jaya No. 45     Perempuan     48000.0       False\n",
      "2  Michael    35        Jl. Harmoni 5A     Laki-laki     67000.0        True\n",
      "3     Emma    30         Jl. Cendana 8     Perempuan     60000.0        True\n",
      "4    David    22          Jl. Indah 12     Laki-laki         NaN       False\n",
      "5    Alice    25   Jl. Jalan Jalan 123     Perempuan         NaN       False\n",
      "6      Bob    31     Jl. Boulevard 567     Laki-laki     70000.0        True\n",
      "7      Eva    29      Jl. Pahlawan 789     Perempuan     55000.0       False\n",
      "8    Frank    38         Jl. Rukun 101     Laki-laki     75000.0        True\n"
     ]
    }
   ],
   "source": [
    "import pandas as pd\n",
    "import numpy as np\n",
    "\n",
    "# buat data frame dahulu\n",
    "data = {\n",
    "    'Nama': ['John', 'Sarah', 'Michael', 'Emma', 'David', 'Alice', 'Bob', 'Eva', 'Frank'],\n",
    "    'Usia': [28, 24, 35, 30, 22, 25, 31, 29, 38],\n",
    "    'Alamat': ['Jl. Merdeka No. 123', 'Jl. Raya Jaya No. 45', 'Jl. Harmoni 5A', 'Jl. Cendana 8', 'Jl. Indah 12',\n",
    "               'Jl. Jalan Jalan 123', 'Jl. Boulevard 567', 'Jl. Pahlawan 789', 'Jl. Rukun 101'],\n",
    "    'Jenis Kelamin': ['Laki-laki', 'Perempuan', 'Laki-laki', 'Perempuan', 'Laki-laki', 'Perempuan', 'Laki-laki',\n",
    "                      'Perempuan', 'Laki-laki'],\n",
    "    'Pendapatan': [55000.0, 48000.0, 67000.0, 60000.0, np.nan, np.nan, 70000.0, 55000.0, 75000.0],\n",
    "    'Pernikahan': [True, False, True, True, False, False, True, False, True]\n",
    "}\n",
    "\n",
    "# Membuat DataFrame dari dictionary data\n",
    "df = pd.DataFrame(data)\n",
    "print(df)"
   ]
  },
  {
   "cell_type": "code",
   "execution_count": 166,
   "metadata": {},
   "outputs": [
    {
     "name": "stdout",
     "output_type": "stream",
     "text": [
      "      Nama  Usia                Alamat Jenis Kelamin    Pendapatan  Pernikahan\n",
      "0     John    28   Jl. Merdeka No. 123     Laki-laki  55000.000000        True\n",
      "1    Sarah    24  Jl. Raya Jaya No. 45     Perempuan  48000.000000       False\n",
      "2  Michael    35        Jl. Harmoni 5A     Laki-laki  67000.000000        True\n",
      "3     Emma    30         Jl. Cendana 8     Perempuan  60000.000000        True\n",
      "4    David    22          Jl. Indah 12     Laki-laki  61428.571429       False\n",
      "5    Alice    25   Jl. Jalan Jalan 123     Perempuan  61428.571429       False\n",
      "6      Bob    31     Jl. Boulevard 567     Laki-laki  70000.000000        True\n",
      "7      Eva    29      Jl. Pahlawan 789     Perempuan  55000.000000       False\n",
      "8    Frank    38         Jl. Rukun 101     Laki-laki  75000.000000        True\n"
     ]
    }
   ],
   "source": [
    "# handling NaN data\n",
    "imputer = SimpleImputer(missing_values=np.nan, strategy='mean')\n",
    "df['Pendapatan'] = imputer.fit_transform(df[['Pendapatan']])\n",
    "print(df)"
   ]
  },
  {
   "cell_type": "code",
   "execution_count": 167,
   "metadata": {},
   "outputs": [
    {
     "name": "stdout",
     "output_type": "stream",
     "text": [
      "      Nama  Usia                Alamat    Pendapatan  Pernikahan  \\\n",
      "0     John    28   Jl. Merdeka No. 123  55000.000000        True   \n",
      "1    Sarah    24  Jl. Raya Jaya No. 45  48000.000000       False   \n",
      "2  Michael    35        Jl. Harmoni 5A  67000.000000        True   \n",
      "3     Emma    30         Jl. Cendana 8  60000.000000        True   \n",
      "4    David    22          Jl. Indah 12  61428.571429       False   \n",
      "5    Alice    25   Jl. Jalan Jalan 123  61428.571429       False   \n",
      "6      Bob    31     Jl. Boulevard 567  70000.000000        True   \n",
      "7      Eva    29      Jl. Pahlawan 789  55000.000000       False   \n",
      "8    Frank    38         Jl. Rukun 101  75000.000000        True   \n",
      "\n",
      "   Jenis Kelamin_0  Jenis Kelamin_1  \n",
      "0              1.0              0.0  \n",
      "1              0.0              1.0  \n",
      "2              1.0              0.0  \n",
      "3              0.0              1.0  \n",
      "4              1.0              0.0  \n",
      "5              0.0              1.0  \n",
      "6              1.0              0.0  \n",
      "7              0.0              1.0  \n",
      "8              1.0              0.0  \n"
     ]
    }
   ],
   "source": [
    "from sklearn.preprocessing import LabelEncoder, OneHotEncoder\n",
    "\n",
    "# Label Encoding pada kolom \"Jenis Kelamin\"\n",
    "label_encoder = LabelEncoder()\n",
    "df['Jenis Kelamin'] = label_encoder.fit_transform(df['Jenis Kelamin'])\n",
    "\n",
    "# One-Hot Encoding pada kolom \"Jenis Kelamin\"\n",
    "onehot_encoder = OneHotEncoder()\n",
    "jenis_kelamin_encoded = onehot_encoder.fit_transform(df['Jenis Kelamin'].values.reshape(-1, 1)).toarray()\n",
    "df_jenis_kelamin_encoded = pd.DataFrame(jenis_kelamin_encoded, columns=['Jenis Kelamin_' + str(int(i)) for i in range(jenis_kelamin_encoded.shape[1])])\n",
    "df = pd.concat([df, df_jenis_kelamin_encoded], axis=1)\n",
    "\n",
    "# Menghapus kolom \"Jenis Kelamin\" asli\n",
    "df.drop(['Jenis Kelamin'], axis=1, inplace=True)\n",
    "print(df)"
   ]
  },
  {
   "cell_type": "code",
   "execution_count": 168,
   "metadata": {},
   "outputs": [
    {
     "name": "stdout",
     "output_type": "stream",
     "text": [
      "      Nama  Usia                Alamat  Pendapatan  Pernikahan  Perempuan  \\\n",
      "0     John    28   Jl. Merdeka No. 123     55000.0        True        1.0   \n",
      "1    Sarah    24  Jl. Raya Jaya No. 45     48000.0       False        0.0   \n",
      "2  Michael    35        Jl. Harmoni 5A     67000.0        True        1.0   \n",
      "3     Emma    30         Jl. Cendana 8     60000.0        True        0.0   \n",
      "4    David    22          Jl. Indah 12         NaN       False        1.0   \n",
      "5    Alice    25   Jl. Jalan Jalan 123         NaN       False        0.0   \n",
      "6      Bob    31     Jl. Boulevard 567     70000.0        True        1.0   \n",
      "7      Eva    29      Jl. Pahlawan 789     55000.0       False        0.0   \n",
      "8    Frank    38         Jl. Rukun 101     75000.0        True        1.0   \n",
      "\n",
      "   Laki-laki  \n",
      "0        0.0  \n",
      "1        1.0  \n",
      "2        0.0  \n",
      "3        1.0  \n",
      "4        0.0  \n",
      "5        1.0  \n",
      "6        0.0  \n",
      "7        1.0  \n",
      "8        0.0  \n"
     ]
    }
   ],
   "source": [
    "# teknik lain encode \"jenis kelamin langsung tanpa labeling\"\n",
    "from sklearn.preprocessing import OneHotEncoder\n",
    "\n",
    "data = {\n",
    "    'Nama': ['John', 'Sarah', 'Michael', 'Emma', 'David', 'Alice', 'Bob', 'Eva', 'Frank'],\n",
    "    'Usia': [28, 24, 35, 30, 22, 25, 31, 29, 38],\n",
    "    'Alamat': ['Jl. Merdeka No. 123', 'Jl. Raya Jaya No. 45', 'Jl. Harmoni 5A', 'Jl. Cendana 8', 'Jl. Indah 12',\n",
    "               'Jl. Jalan Jalan 123', 'Jl. Boulevard 567', 'Jl. Pahlawan 789', 'Jl. Rukun 101'],\n",
    "    'Jenis Kelamin': ['Laki-laki', 'Perempuan', 'Laki-laki', 'Perempuan', 'Laki-laki', 'Perempuan', 'Laki-laki',\n",
    "                      'Perempuan', 'Laki-laki'],\n",
    "    'Pendapatan': [55000.0, 48000.0, 67000.0, 60000.0, np.nan, np.nan, 70000.0, 55000.0, 75000.0],\n",
    "    'Pernikahan': [True, False, True, True, False, False, True, False, True]\n",
    "}\n",
    "\n",
    "df = pd.DataFrame(data)\n",
    "\n",
    "# Inisialisasi OneHotEncoder\n",
    "onehot_encoder = OneHotEncoder(sparse=False)\n",
    "\n",
    "# Melakukan One-Hot Encoding pada kolom \"Jenis Kelamin\"\n",
    "jenis_kelamin_encoded = onehot_encoder.fit_transform(df[['Jenis Kelamin']])\n",
    "\n",
    "# Membuat DataFrame baru dari hasil encoding dengan nama kolom yang lebih deskriptif\n",
    "df_jenis_kelamin_encoded = pd.DataFrame(jenis_kelamin_encoded, columns=['Perempuan', 'Laki-laki'])\n",
    "\n",
    "# Menggabungkan DataFrame hasil encoding dengan DataFrame asli\n",
    "df = pd.concat([df, df_jenis_kelamin_encoded], axis=1)\n",
    "\n",
    "# Menghapus kolom \"Jenis Kelamin\" asli\n",
    "df.drop(['Jenis Kelamin'], axis=1, inplace=True)\n",
    "\n",
    "# Menampilkan DataFrame yang sudah di One-Hot Encoded\n",
    "print(df)"
   ]
  },
  {
   "cell_type": "code",
   "execution_count": 169,
   "metadata": {},
   "outputs": [],
   "source": [
    "# Perbedaannya terletak pada langkah pertama. Code 1 melakukan Label Encoding terlebih dahulu untuk mengubah nilai menjadi angka, \n",
    "# sedangkan Code 2 langsung menerapkan One-Hot Encoding tanpa perlu mengubah menjadi angka terlebih dahulu."
   ]
  },
  {
   "cell_type": "code",
   "execution_count": 170,
   "metadata": {},
   "outputs": [],
   "source": [
    "# Code 2 lebih sederhana dan umumnya disarankan jika Anda ingin melakukan One-Hot Encoding, \n",
    "# terutama jika Anda memiliki kolom kategorikal dengan dua nilai unik (binary) seperti \"Perempuan\" dan \"Laki-laki\". Code 2 secara otomatis akan menghasilkan kolom dengan nama yang lebih deskriptif, sehingga lebih mudah dipahami."
   ]
  }
 ],
 "metadata": {
  "kernelspec": {
   "display_name": "jcopml",
   "language": "python",
   "name": "python3"
  },
  "language_info": {
   "codemirror_mode": {
    "name": "ipython",
    "version": 3
   },
   "file_extension": ".py",
   "mimetype": "text/x-python",
   "name": "python",
   "nbconvert_exporter": "python",
   "pygments_lexer": "ipython3",
   "version": "3.9.0"
  },
  "orig_nbformat": 4
 },
 "nbformat": 4,
 "nbformat_minor": 2
}
