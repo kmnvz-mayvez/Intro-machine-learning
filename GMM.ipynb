{
 "cells": [
  {
   "cell_type": "code",
   "execution_count": 671,
   "metadata": {},
   "outputs": [],
   "source": [
    "import numpy as np\n",
    "\n",
    "from sklearn.cluster import KMeans\n",
    "from sklearn.metrics import silhouette_score\n",
    "from sklearn.mixture import GaussianMixture\n",
    "\n",
    "from scipy.stats import multivariate_normal\n",
    "\n",
    "import matplotlib.pyplot as plt"
   ]
  },
  {
   "attachments": {},
   "cell_type": "markdown",
   "metadata": {},
   "source": [
    "### INITIALIAZE MEANS, COVARIANCE, AND MIXING COEFFICIENT BASED ON K-MEANS PARAMETERS"
   ]
  },
  {
   "cell_type": "code",
   "execution_count": 672,
   "metadata": {},
   "outputs": [
    {
     "name": "stdout",
     "output_type": "stream",
     "text": [
      "[[3 4]\n",
      " [3 6]\n",
      " [3 8]\n",
      " [4 5]\n",
      " [4 7]\n",
      " [5 1]\n",
      " [5 5]\n",
      " [7 3]\n",
      " [7 4]\n",
      " [8 5]]\n"
     ]
    }
   ],
   "source": [
    "# data X(x1,x2)\n",
    "x = np.vstack([[3,4], [3,6], [3,8], [4,5], [4,7], [5,1], [5,5], [7,3], [7,4], [8,5]])\n",
    "\n",
    "# number of clusters\n",
    "num_clusters = 2\n",
    "\n",
    "print(x)"
   ]
  },
  {
   "cell_type": "code",
   "execution_count": 673,
   "metadata": {},
   "outputs": [
    {
     "name": "stdout",
     "output_type": "stream",
     "text": [
      "Pusat klaster (mu):\n",
      "[[6.75       3.25      ]\n",
      " [3.66666667 5.83333333]]\n"
     ]
    }
   ],
   "source": [
    "# KMeans\n",
    "kmeans = KMeans(n_clusters=num_clusters, random_state=0)\n",
    "kmeans.fit(x)\n",
    "mu= kmeans.cluster_centers_\n",
    "\n",
    "print(\"Pusat klaster (mu):\")\n",
    "print(mu)"
   ]
  },
  {
   "cell_type": "code",
   "execution_count": 674,
   "metadata": {},
   "outputs": [
    {
     "name": "stdout",
     "output_type": "stream",
     "text": [
      "Matriks kovariansi (sigma) dari data :\n",
      "[array([[1.58333333, 2.08333333],\n",
      "       [2.08333333, 2.91666667]]), array([[ 0.66666667, -0.26666667],\n",
      "       [-0.26666667,  2.16666667]])]\n"
     ]
    }
   ],
   "source": [
    "# covariance matrix\n",
    "\n",
    "sigma = [np.cov(x[kmeans.labels_ == j].T) for j in range(num_clusters)]\n",
    "print(\"Matriks kovariansi (sigma) dari data :\")\n",
    "print(sigma)"
   ]
  },
  {
   "cell_type": "code",
   "execution_count": 675,
   "metadata": {},
   "outputs": [
    {
     "name": "stdout",
     "output_type": "stream",
     "text": [
      "Probabilitas Prior (phi) komponen Gaussian pertama: 0.5\n",
      "Probabilitas Prior (phi) komponen Gaussian kedua: 0.5\n",
      "Probabilitas Prior (phi) untuk semua komponen:\n",
      "[0.5 0.5]\n"
     ]
    }
   ],
   "source": [
    "# mixing coefficient\n",
    "n1 = 5  \n",
    "n2 = 5  \n",
    "\n",
    "# Jumlah total titik data\n",
    "nt = len(x)\n",
    "\n",
    "# Menghitung phi untuk masing-masing komponen\n",
    "phi_n1 = n1 / nt\n",
    "phi_n2 = n2 / nt\n",
    "\n",
    "print(\"Probabilitas Prior (phi) komponen Gaussian pertama:\", phi_n1)\n",
    "print(\"Probabilitas Prior (phi) komponen Gaussian kedua:\", phi_n2)\n",
    "\n",
    "phi = np.array([phi_n1, phi_n2])\n",
    "print(\"Probabilitas Prior (phi) untuk semua komponen:\")\n",
    "print(phi)"
   ]
  },
  {
   "attachments": {},
   "cell_type": "markdown",
   "metadata": {},
   "source": [
    "#### Initialize log likelihood"
   ]
  },
  {
   "cell_type": "code",
   "execution_count": 676,
   "metadata": {},
   "outputs": [
    {
     "name": "stdout",
     "output_type": "stream",
     "text": [
      "Log-Likelihood: -31.69623105903719\n"
     ]
    }
   ],
   "source": [
    "# Calculate log likelihood\n",
    "log_likelihood = 0\n",
    "for i in range(len(x)):\n",
    "    likelihood = 0\n",
    "    for j in range(num_clusters):\n",
    "        likelihood += phi[j] * multivariate_normal.pdf(x[i], mean=mu[j], cov=sigma[j])\n",
    "    log_likelihood += np.log(likelihood)\n",
    "\n",
    "print(\"Log-Likelihood:\", log_likelihood)"
   ]
  },
  {
   "attachments": {},
   "cell_type": "markdown",
   "metadata": {},
   "source": [
    "#### E-STEP : EVALUATE THE RESPONSIBILITIES USING CURRENT PARAMETER VALUES"
   ]
  },
  {
   "cell_type": "code",
   "execution_count": 677,
   "metadata": {},
   "outputs": [
    {
     "name": "stdout",
     "output_type": "stream",
     "text": [
      "Responsibilities:\n",
      "[[1.08740906e-041 1.00000000e+000]\n",
      " [3.01539204e-075 1.00000000e+000]\n",
      " [7.30584899e-118 1.00000000e+000]\n",
      " [5.32280901e-037 1.00000000e+000]\n",
      " [2.10307633e-068 1.00000000e+000]\n",
      " [9.96478304e-001 3.52169566e-003]\n",
      " [1.53874510e-020 1.00000000e+000]\n",
      " [9.99834030e-001 1.65970054e-004]\n",
      " [9.99828044e-001 1.71955940e-004]\n",
      " [9.99999522e-001 4.77824124e-007]]\n"
     ]
    }
   ],
   "source": [
    "responsibilities = np.zeros((len(x), num_clusters))\n",
    "\n",
    "# E-Step: Calculate responsibilities using current parameter values\n",
    "for i in range(len(x)):\n",
    "    for j in range(num_clusters):\n",
    "        responsibilities[i, j] = phi[j] * multivariate_normal.pdf(x[i], mean=mu[j], cov=sigma[j])\n",
    "\n",
    "    # Normalize responsibilities for each data point\n",
    "    responsibilities[i, :] /= np.sum(responsibilities[i, :])\n",
    "\n",
    "print(\"Responsibilities:\")\n",
    "print(responsibilities)"
   ]
  },
  {
   "cell_type": "code",
   "execution_count": 678,
   "metadata": {},
   "outputs": [
    {
     "name": "stdout",
     "output_type": "stream",
     "text": [
      "Updated Mixing Coefficients (phi):\n",
      "[0.5 0.5]\n",
      "Updated Means (mu):\n",
      "[[6.75152094 3.25196077]\n",
      " [3.66763672 5.83036734]]\n",
      "Updated Covariances (sigma):\n",
      "[array([[1.18594039, 1.56053057],\n",
      "       [1.56053057, 2.18512057]]), array([[ 0.5568671 , -0.226293  ],\n",
      "       [-0.226293  ,  1.81840711]])]\n"
     ]
    }
   ],
   "source": [
    "# Update the means (mu)\n",
    "mu = np.dot(responsibilities.T, x) / np.sum(responsibilities, axis=0)[:, np.newaxis]\n",
    "\n",
    "# Update the covariances (sigma)\n",
    "sigma = []\n",
    "for j in range(num_clusters):\n",
    "    diff = x - mu[j]\n",
    "    sigma_j = np.dot(responsibilities[:, j] * diff.T, diff) / np.sum(responsibilities[:, j])\n",
    "    sigma.append(sigma_j)\n",
    "\n",
    "print(\"Updated Mixing Coefficients (phi):\")\n",
    "print(phi)\n",
    "print(\"Updated Means (mu):\")\n",
    "print(mu)\n",
    "print(\"Updated Covariances (sigma):\")\n",
    "print(sigma)"
   ]
  },
  {
   "cell_type": "code",
   "execution_count": 679,
   "metadata": {},
   "outputs": [
    {
     "name": "stdout",
     "output_type": "stream",
     "text": [
      "Updated Log-Likelihood: -31.45402253566551\n"
     ]
    }
   ],
   "source": [
    "# Calculate log likelihood with updated parameters\n",
    "log_likelihood = 0\n",
    "for i in range(len(x)):\n",
    "    likelihood = 0\n",
    "    for j in range(num_clusters):\n",
    "        likelihood += phi[j] * multivariate_normal.pdf(x[i], mean=mu[j], cov=sigma[j])\n",
    "    log_likelihood += np.log(likelihood)\n",
    "\n",
    "print(\"Updated Log-Likelihood:\", log_likelihood)"
   ]
  },
  {
   "cell_type": "code",
   "execution_count": 680,
   "metadata": {},
   "outputs": [
    {
     "name": "stderr",
     "output_type": "stream",
     "text": [
      "C:\\Users\\yasa\\AppData\\Local\\Temp\\ipykernel_13656\\790466188.py:20: UserWarning: The following kwargs were not used by contour: 'label'\n",
      "  plt.contour(x, y, rv.pdf(pos), colors='r', levels=3, alpha=0.5, label=f'Component {j + 1}')\n"
     ]
    },
    {
     "data": {
      "image/png": "[encoded data removed]",
      "text/plain": [
       "<Figure size 640x480 with 1 Axes>"
      ]
     },
     "metadata": {},
     "output_type": "display_data"
    }
   ],
   "source": [
    "# Updated Mixing Coefficients (phi) and Means (mu)\n",
    "phi = np.mean(responsibilities, axis=0)\n",
    "mu = np.dot(responsibilities.T, x) / np.sum(responsibilities, axis=0)[:, np.newaxis]\n",
    "\n",
    "# Updated Covariances (sigma)\n",
    "sigma = []\n",
    "for j in range(num_clusters):\n",
    "    diff = x - mu[j]\n",
    "    sigma_j = np.dot(responsibilities[:, j] * diff.T, diff) / np.sum(responsibilities[:, j])\n",
    "    sigma.append(sigma_j)\n",
    "\n",
    "# Plot data points\n",
    "plt.scatter(x[:, 0], x[:, 1], c='b', label='Data Points')\n",
    "\n",
    "# Plot Gaussian components\n",
    "for j in range(num_clusters):\n",
    "    rv = multivariate_normal(mean=mu[j], cov=sigma[j])\n",
    "    x, y = np.meshgrid(np.linspace(0, 10, 100), np.linspace(0, 10, 100))\n",
    "    pos = np.dstack((x, y))\n",
    "    plt.contour(x, y, rv.pdf(pos), colors='r', levels=3, alpha=0.5, label=f'Component {j + 1}')\n",
    "\n",
    "plt.title('Gaussian Mixture Model')\n",
    "plt.legend()\n",
    "plt.xlabel('x1')\n",
    "plt.ylabel('x2')\n",
    "plt.show()"
   ]
  }
 ],
 "metadata": {
  "kernelspec": {
   "display_name": "Python 3",
   "language": "python",
   "name": "python3"
  },
  "language_info": {
   "codemirror_mode": {
    "name": "ipython",
    "version": 3
   },
   "file_extension": ".py",
   "mimetype": "text/x-python",
   "name": "python",
   "nbconvert_exporter": "python",
   "pygments_lexer": "ipython3",
   "version": "3.9.0"
  },
  "orig_nbformat": 4
 },
 "nbformat": 4,
 "nbformat_minor": 2
}
